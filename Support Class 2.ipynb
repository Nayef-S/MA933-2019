{
 "cells": [
  {
   "cell_type": "markdown",
   "metadata": {},
   "source": [
    "# Problem Sheet 1"
   ]
  },
  {
   "cell_type": "code",
   "execution_count": null,
   "metadata": {},
   "outputs": [],
   "source": [
    "# import packages\n",
    "import numpy as np\n",
    "import matplotlib.pyplot as plt\n",
    "import seaborn as sns\n",
    "#gamma is an adavantage paramenter\n",
    "#prrof by induction for b, "
   ]
  },
  {
   "cell_type": "markdown",
   "metadata": {},
   "source": [
    "# Polya urn models\n",
    "Discrete time experiment: \n",
    "- initally there are k balls (each unique colour).\n",
    "- At each time step, draw one ball uniformaly at random and then replace two balls of that colour. \n",
    "\n",
    "Transition probability: \n",
    "\n",
    "$$p(\\underline{x} + e_i | \\underline{x}) = \\frac{f_i x_i^\\gamma}{\\sum_{j=1}^{k} f_j x_j^\\gamma} $$"
   ]
  },
  {
   "cell_type": "code",
   "execution_count": null,
   "metadata": {},
   "outputs": [],
   "source": [
    "#uniform probability (f_i = 1 and γ = 1)\n",
    "\n",
    "k = 500\n",
    "X0 = np.ones(k)\n",
    "T = 5000\n",
    "XN = np.ones((T, k))\n",
    "\n",
    "current_state = []\n",
    "current_state.extend(range(k))\n",
    "for j in range(1,T):\n",
    "    r = np.random.randint(0,len(current_state)-1) # random is inclusive [a,b] but remember python indexes from 0 to k-1\n",
    "    newBall = current_state[r]\n",
    "    XN[j:,newBall] = XN[j-1,newBall]+1\n",
    "    current_state.append(newBall)"
   ]
  },
  {
   "cell_type": "code",
   "execution_count": null,
   "metadata": {},
   "outputs": [],
   "source": [
    "XN.sort(axis =1) #try without this"
   ]
  },
  {
   "cell_type": "code",
   "execution_count": null,
   "metadata": {},
   "outputs": [],
   "source": [
    "plt.figure(figsize = (5,5))\n",
    "pcm = sns.heatmap(XN,cbar_kws={'label': r'Number of Balls'})\n",
    "pcm.figure.axes[-1].yaxis.label.set_size(16)\n",
    "plt.ylabel('Time step', fontsize = 20)\n",
    "plt.xlabel('Colour, k', fontsize = 20)\n",
    "plt.title('Polya urn', fontsize = 22)\n"
   ]
  },
  {
   "cell_type": "code",
   "execution_count": null,
   "metadata": {},
   "outputs": [],
   "source": [
    "#fitness probability with reinforcement paramter\n",
    "\n",
    "\n",
    "k = 500\n",
    "X0 = np.ones(k)\n",
    "gamma = 1.5\n",
    "fitness = np.ones(k)\n",
    "T = [5000,6000,7000]\n",
    "i = (0,1,2)\n",
    "for i in T: \n",
    "    XN = np.ones((T[i], k))\n",
    "\n",
    "    current_state = []\n",
    "    current_state.extend(range(k))\n",
    "    for j in range(1,T):\n",
    "        denominator = sum([fitness[kk]*(kk)**gamma for kk in current_state])\n",
    "        selection_prob = [fitness[kk]*(kk)**gamma/denominator for kk in current_state]\n",
    "        r = np.random.choice(len(current_state), p = selection_prob) #non uniform random choice from range(len(current))\n",
    "        newBall = current_state[r]\n",
    "        XN[j:,newBall] = XN[j-1,newBall]+1\n",
    "        current_state.append(newBall)\n",
    "    XN.sort(axis =1) #try without this"
   ]
  },
  {
   "cell_type": "code",
   "execution_count": null,
   "metadata": {},
   "outputs": [],
   "source": [
    "# plt.figure(figsize = (5,5))\n",
    "# pcm = sns.heatmap(XN,cbar_kws={'label': r'Number of Balls'})\n",
    "# pcm.figure.axes[-1].yaxis.label.set_size(16)\n",
    "# plt.ylabel('Time step', fontsize = 20)\n",
    "# plt.xlabel('Colour, k', fontsize = 20)\n",
    "# plt.title('Polya urn', fontsize = 22)\n"
   ]
  },
  {
   "cell_type": "markdown",
   "metadata": {},
   "source": [
    "# Empirical Tail Distributions\n",
    "\n",
    "Empirical CDF: https://www.statsmodels.org/devel/generated/statsmodels.distributions.empirical_distribution.ECDF.html"
   ]
  },
  {
   "cell_type": "code",
   "execution_count": null,
   "metadata": {},
   "outputs": [],
   "source": [
    "from statsmodels.distributions.empirical_distribution import ECDF"
   ]
  },
  {
   "cell_type": "code",
   "execution_count": null,
   "metadata": {},
   "outputs": [],
   "source": [
    "def one_cdf(data_t):\n",
    "\n",
    "    data_size=len(data_t)\n",
    "\n",
    "    # Set bins edges\n",
    "    data_set=sorted(set(data_t))\n",
    "    bins=np.append(data_set, data_set[-1]+1)\n",
    "\n",
    "    # Use the histogram function to bin the data\n",
    "    counts, bin_edges = np.histogram(data_t, bins=bins, density=False)\n",
    "\n",
    "    counts=counts.astype(float)/data_size\n",
    "\n",
    "    # Find the cdf\n",
    "    cdf = np.cumsum(counts)\n",
    "    return bin_edges[0:-1], np.ones(len(cdf))-cdf"
   ]
  },
  {
   "cell_type": "code",
   "execution_count": null,
   "metadata": {},
   "outputs": [],
   "source": [
    "ecdf_XN = ECDF(XN[T-1,:]) # class so have to dot to get values\n",
    "#gamma  = 1 linear log-og\n",
    "#gamma > 1 log-lin\n",
    "#gamma < 1 linear lin,lin\n",
    "bins, tail = one_cdf(XN[T-1,:])\n",
    "# ecdf_XN.x = (ecdf_XN.x)/(T+k)\n",
    "# print(ecdf_XN.x)"
   ]
  },
  {
   "cell_type": "code",
   "execution_count": null,
   "metadata": {},
   "outputs": [],
   "source": [
    "plt.figure(figsize=(10,10))\n",
    "#plt.plot(bins, tail,linestyle='--', marker=\"o\",ms = 4, color='r',label = 'T={}'.format(T))\n",
    "plt.plot(ecdf_XN.x, np.ones(len(ecdf_XN.y))-ecdf_XN.y, linestyle='--', marker=\"o\",ms = 4, color='b',label = 'T={}'.format(T))\n",
    "#plt.yscale('log')\n",
    "plt.xscale('log')\n",
    "plt.legend()\n",
    "plt.ylabel(\"1-CDF, log scale\")\n",
    "plt.title(r'$k = {}, γ = {}, f_i = {}, X_i(0) = 1$'.format(k, gamma, fitness[0]))\n",
    "plt.xlabel('x, log scale')\n",
    "plt.grid(True)"
   ]
  },
  {
   "cell_type": "markdown",
   "metadata": {},
   "source": [
    "# Notes: Gershgorin disk theorem\n",
    "\n",
    "Given a matrix $A \\in \\mathbb{R}^{n \\times n}$, the Gershgorin disk theorem stats that all eigenvalues lie in a least one Gershogorin disk,\n",
    "\n",
    "$D_i$ is a disk centered on $a_{i,i}$ with radius $R_i = \\sum_{j \\neq i} a_{i,j}$."
   ]
  },
  {
   "cell_type": "code",
   "execution_count": null,
   "metadata": {},
   "outputs": [],
   "source": [
    "def plot_circle(center,radius): # Function to plot a circle\n",
    "    x=np.linspace(-1,1,500)\n",
    "    x*=radius\n",
    "    x+=center\n",
    "    y=np.sqrt(radius**2-(x-center)**2)\n",
    "    plt.plot(x,y,'r-',lw=3)\n",
    "    plt.plot(x,-1*y,'r-',lw=3)"
   ]
  },
  {
   "cell_type": "markdown",
   "metadata": {},
   "source": [
    "Consider a random walk, with 4 states with periodic BC"
   ]
  },
  {
   "cell_type": "code",
   "execution_count": null,
   "metadata": {},
   "outputs": [],
   "source": [
    "p=0.3\n",
    "q=0.7\n",
    "A=np.array([[0,p,0,0,q],[q,0,p,0,0],[0,q,0,p,0],[0,0,q,0,p],[p,0,0,q,0]])\n",
    "print(A)\n",
    "\n",
    "centers=[]\n",
    "radii=[]\n",
    "\n",
    "N=A.shape[0]\n",
    "for i in range(N):\n",
    "    centers.append(A[i,i])\n",
    "    temp=0.0\n",
    "    for j in range(N):\n",
    "        if j!=i:\n",
    "            temp+=A[i,j]\n",
    "    radii.append(temp)\n",
    "\n",
    "evals,evecs=np.linalg.eig(A)"
   ]
  },
  {
   "cell_type": "code",
   "execution_count": null,
   "metadata": {},
   "outputs": [],
   "source": [
    "plt.figure(figsize = (5,5))\n",
    "for i in range(N):\n",
    "    plot_circle(centers[i],radii[i]) # Plot disk i\n",
    "    plt.plot(np.real(evals[i]),np.imag(evals[i]),'kx',mew=3,ms=10) # Plot evalue i\n",
    "lim=1.1\n",
    "plt.xlim(-lim,lim)\n",
    "plt.ylim(-lim,lim)\n",
    "plt.grid()\n",
    "\n"
   ]
  },
  {
   "cell_type": "code",
   "execution_count": null,
   "metadata": {},
   "outputs": [],
   "source": [
    "print(evals)\n",
    "print ('\\n eigenvectors', evecs.T)"
   ]
  },
  {
   "cell_type": "markdown",
   "metadata": {},
   "source": [
    "Lazy random walk:"
   ]
  },
  {
   "cell_type": "code",
   "execution_count": null,
   "metadata": {},
   "outputs": [],
   "source": [
    "eps=0.1\n",
    "p=0.3\n",
    "q=1-p-eps\n",
    "A=np.array([[eps,p,0,q],[q,eps,p,0],[0,q,eps,p],[p,0,q,eps]])\n",
    "print(A)\n",
    "\n",
    "centers=[]\n",
    "radii=[]\n",
    "\n",
    "N=A.shape[0]\n",
    "for i in range(N):\n",
    "    centers.append(A[i,i])\n",
    "    temp=0.0\n",
    "    for j in range(N):\n",
    "        if j!=i:\n",
    "            temp+=A[i,j]\n",
    "    radii.append(temp)\n",
    "\n",
    "evals,evecs=np.linalg.eig(A)"
   ]
  },
  {
   "cell_type": "code",
   "execution_count": null,
   "metadata": {},
   "outputs": [],
   "source": [
    "plt.figure(figsize = (5,5))\n",
    "for i in range(N):\n",
    "    plot_circle(centers[i],radii[i]) # plot disk i\n",
    "    plt.plot(np.real(evals[i]),np.imag(evals[i]),'kx',mew=3,ms=10) #plot evalue i\n",
    "lim=1.1\n",
    "plt.xlim(-lim,lim)\n",
    "plt.ylim(-lim,lim)\n",
    "plt.grid()"
   ]
  },
  {
   "cell_type": "code",
   "execution_count": 4,
   "metadata": {},
   "outputs": [],
   "source": [
    "from statsmodels.distributions.empirical_distribution import ECDF\n",
    "import numpy as np\n",
    "import matplotlib.pyplot as plt "
   ]
  },
  {
   "cell_type": "markdown",
   "metadata": {},
   "source": [
    "# gamma = 0, not normalised"
   ]
  },
  {
   "cell_type": "code",
   "execution_count": null,
   "metadata": {},
   "outputs": [],
   "source": [
    "k = 500\n",
    "X0 = np.ones(k)\n",
    "gamma = 0\n",
    "fitness = np.ones(k)\n",
    "T = [5000,20000,80000]\n",
    "XN = np.ones((T[0], k))\n",
    "current_state = []\n",
    "current_state.extend(range(k))\n",
    "for j in range(1,T[0]):\n",
    "    denominator = sum([fitness[kk]*(kk)**gamma for kk in current_state])\n",
    "    selection_prob = [fitness[kk]*(kk)**gamma/denominator for kk in current_state]\n",
    "    r = np.random.choice(len(current_state), p = selection_prob) #non uniform random choice from range(len(current))\n",
    "    newBall = current_state[r]\n",
    "    XN[j:,newBall] = XN[j-1,newBall]+1\n",
    "    current_state.append(newBall)\n",
    "    XN.sort(axis =1) #try without this\n",
    "\n",
    "ecdf_XN0 = ECDF(XN[T[0]-1,:]) # class so have to dot to get values\n",
    "#gamma  = 1 linear log-og\n",
    "#gamma > 1 log-lin\n",
    "#gamma < 1 linear lin,lin\n",
    "# ecdf_XN.x = (ecdf_XN.x)/(T+k)\n",
    "# print(ecdf_XN.x)\n",
    "XN = np.ones((T[1], k))\n",
    "current_state = []\n",
    "current_state.extend(range(k))\n",
    "for j in range(1,T[1]):\n",
    "    denominator = sum([fitness[kk]*(kk)**gamma for kk in current_state])\n",
    "    selection_prob = [fitness[kk]*(kk)**gamma/denominator for kk in current_state]\n",
    "    r = np.random.choice(len(current_state), p = selection_prob) #non uniform random choice from range(len(current))\n",
    "    newBall = current_state[r]\n",
    "    XN[j:,newBall] = XN[j-1,newBall]+1\n",
    "    current_state.append(newBall)\n",
    "    XN.sort(axis =1) #try without this\n",
    "\n",
    "ecdf_XN1 = ECDF(XN[T[1]-1,:])\n",
    "\n",
    "\n",
    "XN = np.ones((T[2], k))\n",
    "current_state = []\n",
    "current_state.extend(range(k))\n",
    "for j in range(1,T[2]):\n",
    "    denominator = sum([fitness[kk]*(kk)**gamma for kk in current_state])\n",
    "    selection_prob = [fitness[kk]*(kk)**gamma/denominator for kk in current_state]\n",
    "    r = np.random.choice(len(current_state), p = selection_prob) #non uniform random choice from range(len(current))\n",
    "    newBall = current_state[r]\n",
    "    XN[j:,newBall] = XN[j-1,newBall]+1\n",
    "    current_state.append(newBall)\n",
    "    XN.sort(axis =1) #try without this\n",
    "\n",
    "ecdf_XN2 = ECDF(XN[T[2]-1,:])\n",
    "\n",
    "#plt.plot(bins, tail,linestyle='--', marker=\"o\",ms = 4, color='r',label = 'T={}'.format(T))"
   ]
  },
  {
   "cell_type": "code",
   "execution_count": 13,
   "metadata": {},
   "outputs": [
    {
     "data": {
      "image/png": "[encoded data removed]",
      "text/plain": [
       "<Figure size 720x720 with 1 Axes>"
      ]
     },
     "metadata": {
      "needs_background": "light"
     },
     "output_type": "display_data"
    }
   ],
   "source": [
    "plt.figure(figsize=(10,10))\n",
    "plt.plot(ecdf_XN0.x, np.ones(len(ecdf_XN0.y))-ecdf_XN0.y, linestyle='--', marker=\"o\",ms = 4,label = 'T={}'.format(T[0]))\n",
    "plt.plot(ecdf_XN1.x, np.ones(len(ecdf_XN1.y))-ecdf_XN1.y, linestyle='--', marker=\"o\",ms = 4,label = 'T={}'.format(T[1]))\n",
    "plt.plot(ecdf_XN2.x, np.ones(len(ecdf_XN2.y))-ecdf_XN2.y, linestyle='--', marker=\"o\",ms = 4,label = 'T={}'.format(T[2]))\n",
    "plt.yscale('log')\n",
    "plt.xscale('log')\n",
    "plt.legend()\n",
    "plt.ylabel(\"1-CDF, log scale\")\n",
    "plt.title(r'$k = {}, γ = {}, f_i = {}, X_i(0) = 1$'.format(k, gamma, fitness[0]))\n",
    "plt.xlabel('x, log scale')\n",
    "plt.grid(True)"
   ]
  },
  {
   "cell_type": "code",
   "execution_count": null,
   "metadata": {},
   "outputs": [],
   "source": []
  }
 ],
 "metadata": {
  "kernelspec": {
   "display_name": "Python 3",
   "language": "python",
   "name": "python3"
  }
 },
 "nbformat": 4,
 "nbformat_minor": 2
}
