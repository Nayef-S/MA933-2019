{
 "cells": [
  {
   "cell_type": "markdown",
   "metadata": {},
   "source": [
    "# gamma = 1, not normalised"
   ]
  },
  {
   "cell_type": "code",
   "execution_count": null,
   "metadata": {},
   "outputs": [],
   "source": [
    "from statsmodels.distributions.empirical_distribution import ECDF\n",
    "import numpy as np\n",
    "import matplotlib.pyplot as plt "
   ]
  },
  {
   "cell_type": "code",
   "execution_count": null,
   "metadata": {},
   "outputs": [],
   "source": [
    "k = 500\n",
    "X0 = np.ones(k)\n",
    "gamma = 1\n",
    "fitness = np.ones(k)\n",
    "T = [5000,20000,80000]\n",
    "XN = np.ones((T[0], k))\n",
    "current_state = []\n",
    "current_state.extend(range(k))\n",
    "for j in range(1,T[0]):\n",
    "    denominator = sum([fitness[kk]*(kk)**gamma for kk in current_state])\n",
    "    selection_prob = [fitness[kk]*(kk)**gamma/denominator for kk in current_state]\n",
    "    r = np.random.choice(len(current_state), p = selection_prob) #non uniform random choice from range(len(current))\n",
    "    newBall = current_state[r]\n",
    "    XN[j:,newBall] = XN[j-1,newBall]+1\n",
    "    current_state.append(newBall)\n",
    "    XN.sort(axis =1) #try without this\n",
    "\n",
    "ecdf_XN0 = ECDF(XN[T[0]-1,:]) # class so have to dot to get values\n",
    "#gamma  = 1 linear log-og\n",
    "#gamma > 1 log-lin\n",
    "#gamma < 1 linear lin,lin\n",
    "# ecdf_XN.x = (ecdf_XN.x)/(T+k)\n",
    "# print(ecdf_XN.x)\n",
    "XN = np.ones((T[1], k))\n",
    "current_state = []\n",
    "current_state.extend(range(k))\n",
    "for j in range(1,T[1]):\n",
    "    denominator = sum([fitness[kk]*(kk)**gamma for kk in current_state])\n",
    "    selection_prob = [fitness[kk]*(kk)**gamma/denominator for kk in current_state]\n",
    "    r = np.random.choice(len(current_state), p = selection_prob) #non uniform random choice from range(len(current))\n",
    "    newBall = current_state[r]\n",
    "    XN[j:,newBall] = XN[j-1,newBall]+1\n",
    "    current_state.append(newBall)\n",
    "    XN.sort(axis =1) #try without this\n",
    "\n",
    "ecdf_XN1 = ECDF(XN[T[1]-1,:])\n",
    "\n",
    "\n",
    "XN = np.ones((T[2], k))\n",
    "current_state = []\n",
    "current_state.extend(range(k))\n",
    "for j in range(1,T[2]):\n",
    "    denominator = sum([fitness[kk]*(kk)**gamma for kk in current_state])\n",
    "    selection_prob = [fitness[kk]*(kk)**gamma/denominator for kk in current_state]\n",
    "    r = np.random.choice(len(current_state), p = selection_prob) #non uniform random choice from range(len(current))\n",
    "    newBall = current_state[r]\n",
    "    XN[j:,newBall] = XN[j-1,newBall]+1\n",
    "    current_state.append(newBall)\n",
    "    XN.sort(axis =1) #try without this\n",
    "\n",
    "ecdf_XN2 = ECDF(XN[T[2]-1,:])"
   ]
  },
  {
   "cell_type": "code",
   "execution_count": null,
   "metadata": {},
   "outputs": [],
   "source": [
    "plt.figure(figsize=(10,10))\n",
    "plt.plot(ecdf_XN0.x, np.ones(len(ecdf_XN0.y))-ecdf_XN0.y, linestyle='--', marker=\"o\",ms = 4,label = 'T={}'.format(T[0]))\n",
    "plt.plot(ecdf_XN1.x, np.ones(len(ecdf_XN1.y))-ecdf_XN1.y, linestyle='--', marker=\"o\",ms = 4,label = 'T={}'.format(T[1]))\n",
    "plt.plot(ecdf_XN2.x, np.ones(len(ecdf_XN2.y))-ecdf_XN2.y, linestyle='--', marker=\"o\",ms = 4,label = 'T={}'.format(T[2]))\n",
    "plt.yscale('log')\n",
    "plt.xscale('log')\n",
    "plt.legend()\n",
    "plt.ylabel(\"1-CDF, log scale\")\n",
    "plt.title(r'$k = {}, γ = {}, f_i = {}, X_i(0) = 1$'.format(k, gamma, fitness[0]))\n",
    "plt.xlabel('x, log scale')\n",
    "plt.grid(True)"
   ]
  }
 ],
 "metadata": {
  "kernelspec": {
   "display_name": "Python 3",
   "language": "python",
   "name": "python3"
  },
  "language_info": {
   "codemirror_mode": {
    "name": "ipython",
    "version": 3
   },
   "file_extension": ".py",
   "mimetype": "text/x-python",
   "name": "python",
   "nbconvert_exporter": "python",
   "pygments_lexer": "ipython3",
   "version": "3.7.1"
  }
 },
 "nbformat": 4,
 "nbformat_minor": 2
}
